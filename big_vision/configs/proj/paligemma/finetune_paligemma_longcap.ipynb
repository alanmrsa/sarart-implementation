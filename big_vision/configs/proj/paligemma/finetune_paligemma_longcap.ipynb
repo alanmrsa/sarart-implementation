{
  "cells": [
    {
      "cell_type": "markdown",
      "metadata": {
        "id": "wR53lePHuiP-"
      },
      "source": [
        "# Finetune PaliGemma\n",
        "\n",
        "> *These models and code are not official Google products and were trained and released for research purposes.*\n",
        "\n",
        "\n",
        "**This notebook shows how to finetune PaliGemma 2 on a vision-language task.**\n",
        "The training data consists of 90 pairs of images and long captions describing them.\n",
        "To make it runnable on a T4 colab runtime with 16GB HBM and 12GB RAM, we opt to only finetune the attention layers of the language model and freeze the other parameters.\n",
        "\n",
        " **This setup is illustrative**. In a real usecase, the amount of data, trainable parameters, training steps and hyper-parameters and obtained results could be significantly different.\n",
        "\n",
        "This notebook uses the model reference implementation from [big_vision](https://github.com/google-research/big_vision).\n",
        "and shows how to:\n",
        "\n",
        " * Install deps, download model checkpoint and training data.\n",
        " * Load the model onto GPU devices.\n",
        " * Prepare the input to the model for training and inference.\n",
        " * Finetune the model and inspect output in validation split."
      ]
    },
    {
      "cell_type": "markdown",
      "metadata": {
        "id": "6U0QUFveqSP2"
      },
      "source": [
        "## Setup"
      ]
    },
    {
      "cell_type": "code",
      "execution_count": 1,
      "metadata": {
        "colab": {
          "base_uri": "https://localhost:8080/"
        },
        "id": "r4meLxJKsi_W",
        "outputId": "ccd800c7-11e0-456f-8227-4b7278fae2bd"
      },
      "outputs": [
        {
          "output_type": "stream",
          "name": "stdout",
          "text": [
            "Drive already mounted at /content/drive; to attempt to forcibly remount, call drive.mount(\"/content/drive\", force_remount=True).\n",
            "/content/drive/MyDrive/sara/sarart-implementation\n"
          ]
        }
      ],
      "source": [
        "from google.colab import drive\n",
        "drive.mount('/content/drive')\n",
        "%cd /content/drive/MyDrive/sara/sarart-implementation\n"
      ]
    },
    {
      "cell_type": "code",
      "execution_count": 2,
      "metadata": {
        "id": "DfxKb3F839Ks"
      },
      "outputs": [],
      "source": [
        "# @title Fetch big_vision code and install dependencies.\n",
        "import os\n",
        "import sys\n",
        "\n",
        "# TPUs with\n",
        "if \"COLAB_TPU_ADDR\" in os.environ:\n",
        "  raise \"It seems you are using Colab with remote TPUs which is not supported.\"\n",
        "\n",
        "# Append big_vision code to python import path\n",
        "if \"big_vision_repo\" not in sys.path:\n",
        "  sys.path.append(\"big_vision_repo\")\n",
        "\n",
        "# Install missing dependencies. Assume jax~=0.4.25 with GPU available.\n",
        "!pip3 install -q \"overrides\" \"ml_collections\" \"einops~=0.7\" \"sentencepiece\"\n"
      ]
    },
    {
      "cell_type": "markdown",
      "metadata": {
        "id": "azmRZvgGyhAb"
      },
      "source": [
        "### Configure your API key to access Kaggle\n",
        "\n",
        "To use PaliGemma, you must provide your Kaggle username and a Kaggle API key.\n",
        "\n",
        "1. To generate a Kaggle API key, go to the **Account** tab of your Kaggle user profile and select **Create New Token**. This will trigger the download of a `kaggle.json` file containing your API credentials.\n",
        "1. In Colab, select **Secrets** (🔑) in the left pane and add your Kaggle username and Kaggle API key. Store your username under the name `KAGGLE_USERNAME` and your API key under the name `KAGGLE_KEY`.\n",
        "\n",
        "To be able to download, you will also need to acknowledge the Terms and Conditions of the PaliGemma on:\n",
        "\n",
        "* https://www.kaggle.com/models/google/paligemma/\n",
        "\n"
      ]
    },
    {
      "cell_type": "code",
      "execution_count": 3,
      "metadata": {
        "id": "zGLIp1Cx3_CX"
      },
      "outputs": [],
      "source": [
        "import os\n",
        "from google.colab import userdata\n",
        "\n",
        "# Note: `userdata.get` is a Colab API. If you're not using Colab, set the env\n",
        "# vars as appropriate or make your credentials available in ~/.kaggle/kaggle.json\n",
        "\n",
        "os.environ[\"KAGGLE_USERNAME\"] = userdata.get('KAGGLE_USERNAME')\n",
        "os.environ[\"KAGGLE_KEY\"] = userdata.get('KAGGLE_KEY')\n",
        "\n",
        "# The T4 runtime is tight on memory to finetune this model. Preallocate\n",
        "# all memory ahead of time to avoid OOM'ing due to fragmentation.\n",
        "os.environ[\"XLA_PYTHON_CLIENT_MEM_FRACTION\"] = \"1.0\""
      ]
    },
    {
      "cell_type": "code",
      "execution_count": 4,
      "metadata": {
        "id": "gQNOTfF24AV4",
        "colab": {
          "base_uri": "https://localhost:8080/"
        },
        "outputId": "71cdc30a-adee-4f2d-e371-f5e06896fda5"
      },
      "outputs": [
        {
          "output_type": "stream",
          "name": "stdout",
          "text": [
            "Downloading the checkpoint from Kaggle, this could take a few minutes....\n",
            "Model path: /root/.cache/kagglehub/models/google/paligemma-2/jax/paligemma2-3b-pt-224/1/./paligemma2-3b-pt-224.b16.npz\n"
          ]
        }
      ],
      "source": [
        "# @title Download checkpoint, tokenizer and dataset to local filesystem.\n",
        "#\n",
        "import os\n",
        "import kagglehub\n",
        "\n",
        "# Use these for PaliGemma-2 3B 224px²\n",
        "LLM_VARIANT = \"gemma2_2b\"\n",
        "MODEL_PATH = \"./paligemma2-3b-pt-224.b16.npz\"\n",
        "KAGGLE_HANDLE = \"google/paligemma-2/jax/paligemma2-3b-pt-224\"  # Path to fetch from Kaggle.\n",
        "\n",
        "# Use these for PaliGemma 1:\n",
        "# LLM_VARIANT = \"gemma_2b\"\n",
        "# MODEL_PATH = \"./paligemma-3b-pt-224.f16.npz\"\n",
        "# KAGGLE_HANDLE = \"google/paligemma/jax/paligemma-3b-pt-224\"\n",
        "\n",
        "if not os.path.exists(MODEL_PATH):\n",
        "  print(\"Downloading the checkpoint from Kaggle, this could take a few minutes....\")\n",
        "  MODEL_PATH = kagglehub.model_download(KAGGLE_HANDLE, MODEL_PATH)\n",
        "  print(f\"Model path: {MODEL_PATH}\")\n",
        "\n",
        "TOKENIZER_PATH = \"./paligemma_tokenizer.model\"\n",
        "if not os.path.exists(TOKENIZER_PATH):\n",
        "  print(\"Downloading the model tokenizer...\")\n",
        "  !gsutil cp gs://big_vision/paligemma_tokenizer.model {TOKENIZER_PATH}\n",
        "  print(f\"Tokenizer path: {TOKENIZER_PATH}\")\n",
        "\n",
        "DATA_DIR=\"./longcap100\"\n",
        "if not os.path.exists(DATA_DIR):\n",
        "  print(\"Downloading the dataset...\")\n",
        "  !gsutil -m -q cp -n -r gs://longcap100/ .\n",
        "  print(f\"Data path: {DATA_DIR}\")"
      ]
    },
    {
      "cell_type": "markdown",
      "metadata": {
        "id": "zDoq0O77GF30"
      },
      "source": [
        "## Notebook"
      ]
    },
    {
      "cell_type": "code",
      "execution_count": 5,
      "metadata": {
        "id": "dTfe2k8J4Bw0",
        "colab": {
          "base_uri": "https://localhost:8080/"
        },
        "outputId": "d8b83233-3e7b-43fb-a75b-fdafd824ff7c"
      },
      "outputs": [
        {
          "output_type": "stream",
          "name": "stdout",
          "text": [
            "JAX version:  0.4.33\n",
            "JAX platform: gpu\n",
            "JAX devices:  1\n"
          ]
        }
      ],
      "source": [
        "import base64\n",
        "import functools\n",
        "import html\n",
        "import io\n",
        "import os\n",
        "import warnings\n",
        "\n",
        "import jax\n",
        "import jax.numpy as jnp\n",
        "import numpy as np\n",
        "import ml_collections\n",
        "\n",
        "import tensorflow as tf\n",
        "import sentencepiece\n",
        "\n",
        "from IPython.core.display import display, HTML\n",
        "from PIL import Image\n",
        "\n",
        "# Import model definition from big_vision\n",
        "from big_vision.models.proj.paligemma import paligemma\n",
        "from big_vision.trainers.proj.paligemma import predict_fns\n",
        "\n",
        "# Import big vision utilities\n",
        "import big_vision.datasets.jsonl\n",
        "import big_vision.utils\n",
        "import big_vision.sharding\n",
        "\n",
        "# Don't let TF use the GPU or TPUs\n",
        "tf.config.set_visible_devices([], \"GPU\")\n",
        "tf.config.set_visible_devices([], \"TPU\")\n",
        "\n",
        "backend = jax.extend.backend.get_backend()\n",
        "print(f\"JAX version:  {jax.__version__}\")\n",
        "print(f\"JAX platform: {backend.platform}\")\n",
        "print(f\"JAX devices:  {jax.device_count()}\")"
      ]
    },
    {
      "cell_type": "code",
      "execution_count": 6,
      "metadata": {
        "id": "No-NiqlKuLX-",
        "colab": {
          "base_uri": "https://localhost:8080/"
        },
        "outputId": "4f5f1466-e97b-4fdc-a544-9e8f830c535c"
      },
      "outputs": [
        {
          "output_type": "execute_result",
          "data": {
            "text/plain": [
              "ParsedConfigFileIncludesAndImports(filename='./big_vision/configs/proj/paligemma/sara.gin', imports=['performer.fast_attention.jax.fast_attention', 'big_vision.models.vit'], includes=[])"
            ]
          },
          "metadata": {},
          "execution_count": 6
        }
      ],
      "source": [
        "# set gin config for sara\n",
        "import gin\n",
        "gin.parse_config_file('./big_vision/configs/proj/paligemma/sara.gin')"
      ]
    },
    {
      "cell_type": "code",
      "execution_count": 7,
      "metadata": {
        "id": "1aghcULcEdtv"
      },
      "outputs": [],
      "source": [
        "# @title Construct model and load params into RAM.\n",
        "\n",
        "# Define model\n",
        "# IMPORTANT: Gemma-2 has a \"final_logits_softcap\" property, we set it to 0.0\n",
        "# for better transfer results.\n",
        "model_config = ml_collections.FrozenConfigDict({\n",
        "    \"llm\": {\"vocab_size\": 257_152, \"variant\": LLM_VARIANT, \"final_logits_softcap\": 0.0},\n",
        "    \"img\": {\"variant\": \"So400m/14\", \"pool_type\": \"none\", \"scan\": True, \"dtype_mm\": \"float16\"}\n",
        "})\n",
        "model = paligemma.Model(**model_config)\n",
        "tokenizer = sentencepiece.SentencePieceProcessor(TOKENIZER_PATH)\n",
        "\n",
        "# Load params - this can take up to 1 minute in T4 colabs.\n",
        "params = paligemma.load(None, MODEL_PATH, model_config)\n",
        "\n",
        "# Define `decode` function to sample outputs from the model.\n",
        "decode_fn = predict_fns.get_all(model)['decode']\n",
        "decode = functools.partial(decode_fn, devices=jax.devices(), eos_token=tokenizer.eos_id())"
      ]
    },
    {
      "cell_type": "code",
      "execution_count": 8,
      "metadata": {
        "id": "RWOdf_fw2SAO"
      },
      "outputs": [],
      "source": [
        "# @title Move params to GPU/TPU memory.\n",
        "#\n",
        "# To keep HBM usage low we opt to only finetune\n",
        "# a part of the parameters. Additionally we keep the frozen params in float16 and cast trainable to float32.\n",
        "\n",
        "# Create a pytree mask of the trainable params.\n",
        "def is_trainable_param(name, param):  # pylint: disable=unused-argument\n",
        "    # if name.startswith(\"llm/layers/attn/\"):  return True\n",
        "    # if name.startswith(\"llm/\"):              return False\n",
        "    # if name.startswith(\"img/\"):              return False\n",
        "    # raise ValueError(f\"Unexpected param name {name}\")\n",
        "\n",
        "    # Train ViT (Transformer) components\n",
        "    if name.startswith(\"img/Transformer/\"):      return True  # ViT backbone\n",
        "    if name.startswith(\"img/head/\"):             return True  # Final projection layer (acting as final MLP)\n",
        "\n",
        "    # Freeze everything else\n",
        "    if name.startswith(\"img/embedding/\"):        return False # Freeze initial embedding\n",
        "    if name.startswith(\"img/pos_embedding\"):     return False # Freeze positional embedding\n",
        "    if name.startswith(\"llm/\"):                  return False # Freeze all LLM components\n",
        "\n",
        "    raise ValueError(f\"Unexpected param name {name}\")\n",
        "\n",
        "trainable_mask = big_vision.utils.tree_map_with_names(is_trainable_param, params)\n",
        "\n",
        "#\n",
        "# If more than one device is available (e.g. multiple GPUs) the parameters can\n",
        "# be sharded across them to reduce HBM usage per device.\n",
        "mesh = jax.sharding.Mesh(jax.devices(), (\"data\"))\n",
        "\n",
        "data_sharding = jax.sharding.NamedSharding(\n",
        "    mesh, jax.sharding.PartitionSpec(\"data\"))\n",
        "\n",
        "params_sharding = big_vision.sharding.infer_sharding(\n",
        "    params, strategy=[('.*', 'fsdp(axis=\"data\")')], mesh=mesh)\n",
        "\n",
        "# Yes: Some donated buffers are not usable.\n",
        "warnings.filterwarnings(\n",
        "    \"ignore\", message=\"Some donated buffers were not usable\")\n",
        "\n",
        "@functools.partial(jax.jit, donate_argnums=(0,), static_argnums=(1,))\n",
        "def maybe_cast_to_f32(params, trainable):\n",
        "  # Cast others to float16, since some GPUs don't support bf16.\n",
        "  return jax.tree.map(lambda p, m: p.astype(jnp.float32)\n",
        "                      if m else p.astype(jnp.float16),\n",
        "                      params, trainable)"
      ]
    },
    {
      "cell_type": "code",
      "execution_count": 9,
      "metadata": {
        "id": "ipJehqguO3T9",
        "colab": {
          "base_uri": "https://localhost:8080/"
        },
        "outputId": "150ae8d0-2d6a-4287-f990-9e8cdb96673b"
      },
      "outputs": [
        {
          "output_type": "stream",
          "name": "stdout",
          "text": [
            " == Model params == \n",
            "img/Transformer/encoder_norm/bias                                                (1152,)                float32\n",
            "img/Transformer/encoder_norm/scale                                               (1152,)                float32\n",
            "img/Transformer/encoderblock/LayerNorm_0/bias                                    (27, 1152)             float32\n",
            "img/Transformer/encoderblock/LayerNorm_0/scale                                   (27, 1152)             float32\n",
            "img/Transformer/encoderblock/LayerNorm_1/bias                                    (27, 1152)             float32\n",
            "img/Transformer/encoderblock/LayerNorm_1/scale                                   (27, 1152)             float32\n",
            "img/Transformer/encoderblock/MlpBlock_0/Dense_0/bias                             (27, 4304)             float32\n",
            "img/Transformer/encoderblock/MlpBlock_0/Dense_0/kernel                           (27, 1152, 4304)       float32\n",
            "img/Transformer/encoderblock/MlpBlock_0/Dense_1/bias                             (27, 1152)             float32\n",
            "img/Transformer/encoderblock/MlpBlock_0/Dense_1/kernel                           (27, 4304, 1152)       float32\n",
            "img/Transformer/encoderblock/MultiHeadDotProductAttention_0/key/bias             (27, 16, 72)           float32\n",
            "img/Transformer/encoderblock/MultiHeadDotProductAttention_0/key/kernel           (27, 1152, 16, 72)     float32\n",
            "img/Transformer/encoderblock/MultiHeadDotProductAttention_0/out/bias             (27, 1152)             float32\n",
            "img/Transformer/encoderblock/MultiHeadDotProductAttention_0/out/kernel           (27, 16, 72, 1152)     float32\n",
            "img/Transformer/encoderblock/MultiHeadDotProductAttention_0/query/bias           (27, 16, 72)           float32\n",
            "img/Transformer/encoderblock/MultiHeadDotProductAttention_0/query/kernel         (27, 1152, 16, 72)     float32\n",
            "img/Transformer/encoderblock/MultiHeadDotProductAttention_0/value/bias           (27, 16, 72)           float32\n",
            "img/Transformer/encoderblock/MultiHeadDotProductAttention_0/value/kernel         (27, 1152, 16, 72)     float32\n",
            "img/embedding/bias                                                               (1152,)                float16\n",
            "img/embedding/kernel                                                             (14, 14, 3, 1152)      float16\n",
            "img/head/bias                                                                    (2304,)                float32\n",
            "img/head/kernel                                                                  (1152, 2304)           float32\n",
            "img/pos_embedding                                                                (1, 256, 1152)         float16\n",
            "llm/embedder/input_embedding                                                     (257152, 2304)         float16\n",
            "llm/final_norm/scale                                                             (2304,)                float16\n",
            "llm/layers/attn/attn_vec_einsum/w                                                (26, 8, 256, 2304)     float16\n",
            "llm/layers/attn/kv_einsum/w                                                      (26, 2, 4, 2304, 256)  float16\n",
            "llm/layers/attn/q_einsum/w                                                       (26, 8, 2304, 256)     float16\n",
            "llm/layers/mlp/gating_einsum                                                     (26, 2, 2304, 9216)    float16\n",
            "llm/layers/mlp/linear                                                            (26, 9216, 2304)       float16\n",
            "llm/layers/post_attention_norm/scale                                             (26, 2304)             float16\n",
            "llm/layers/post_ffw_norm/scale                                                   (26, 2304)             float16\n",
            "llm/layers/pre_attention_norm/scale                                              (26, 2304)             float16\n",
            "llm/layers/pre_ffw_norm/scale                                                    (26, 2304)             float16\n"
          ]
        }
      ],
      "source": [
        "# Loading all params in simultaneous - albeit much faster and more succinct -\n",
        "# requires more RAM than the T4 colab runtimes have by default (12GB RAM).\n",
        "# Instead we do it param by param.\n",
        "params, treedef = jax.tree.flatten(params)\n",
        "sharding_leaves = jax.tree.leaves(params_sharding)\n",
        "trainable_leaves = jax.tree.leaves(trainable_mask)\n",
        "for idx, (sharding, trainable) in enumerate(zip(sharding_leaves, trainable_leaves)):\n",
        "  params[idx] = big_vision.utils.reshard(params[idx], sharding)\n",
        "  params[idx] = maybe_cast_to_f32(params[idx], trainable)\n",
        "  params[idx].block_until_ready()\n",
        "params = jax.tree.unflatten(treedef, params)\n",
        "\n",
        "# Print params to show what the model is made of.\n",
        "def parameter_overview(params):\n",
        "  for path, arr in big_vision.utils.tree_flatten_with_names(params)[0]:\n",
        "    print(f\"{path:80s} {str(arr.shape):22s} {arr.dtype}\")\n",
        "\n",
        "print(\" == Model params == \")\n",
        "parameter_overview(params)"
      ]
    },
    {
      "cell_type": "code",
      "execution_count": 10,
      "metadata": {
        "id": "8SRW0NuU4UcW"
      },
      "outputs": [],
      "source": [
        "# @title Define preprocess functions to create inputs to the model.\n",
        "\n",
        "def preprocess_image(image, size=224):\n",
        "  # Model has been trained to handle images of different aspects ratios\n",
        "  # resized to 224x224 in the range [-1, 1]. Bilinear and antialias resize\n",
        "  # options are helpful to improve quality in some tasks.\n",
        "  image = np.asarray(image)\n",
        "  if image.ndim == 2:  # Convert image without last channel into greyscale.\n",
        "    image = np.stack((image,)*3, axis=-1)\n",
        "  image = image[..., :3]  # Remove alpha layer.\n",
        "  assert image.shape[-1] == 3\n",
        "\n",
        "  image = tf.constant(image)\n",
        "  image = tf.image.resize(image, (size, size), method='bilinear', antialias=True)\n",
        "  return image.numpy() / 127.5 - 1.0  # [0, 255]->[-1,1]\n",
        "\n",
        "def preprocess_tokens(prefix, suffix=None, seqlen=None):\n",
        "  # Model has been trained to handle tokenized text composed of a prefix with\n",
        "  # full attention and a suffix with causal attention.\n",
        "  separator = \"\\n\"\n",
        "  tokens = tokenizer.encode(prefix, add_bos=True) + tokenizer.encode(separator)\n",
        "  mask_ar = [0] * len(tokens)    # 0 to use full attention for prefix.\n",
        "  mask_loss = [0] * len(tokens)  # 0 to not use prefix tokens in the loss.\n",
        "\n",
        "  if suffix:\n",
        "    suffix = tokenizer.encode(suffix, add_eos=True)\n",
        "    tokens += suffix\n",
        "    mask_ar += [1] * len(suffix)    # 1 to use causal attention for suffix.\n",
        "    mask_loss += [1] * len(suffix)  # 1 to use suffix tokens in the loss.\n",
        "\n",
        "  mask_input = [1] * len(tokens)    # 1 if its a token, 0 if padding.\n",
        "  if seqlen:\n",
        "    padding = [0] * max(0, seqlen - len(tokens))\n",
        "    tokens = tokens[:seqlen] + padding\n",
        "    mask_ar = mask_ar[:seqlen] + padding\n",
        "    mask_loss = mask_loss[:seqlen] + padding\n",
        "    mask_input = mask_input[:seqlen] + padding\n",
        "\n",
        "  return jax.tree.map(np.array, (tokens, mask_ar, mask_loss, mask_input))\n",
        "\n",
        "def postprocess_tokens(tokens):\n",
        "  tokens = tokens.tolist()  # np.array to list[int]\n",
        "  try:  # Remove tokens at and after EOS if any.\n",
        "    eos_pos = tokens.index(tokenizer.eos_id())\n",
        "    tokens = tokens[:eos_pos]\n",
        "  except ValueError:\n",
        "    pass\n",
        "  return tokenizer.decode(tokens)\n"
      ]
    },
    {
      "cell_type": "code",
      "execution_count": 11,
      "metadata": {
        "id": "whzWOojGOtzi"
      },
      "outputs": [],
      "source": [
        "# @title Function to iterate over train and validation examples.\n",
        "SEQLEN = 128\n",
        "\n",
        "# TODO: Consider data iterators skipping big_vision and tf.data?\n",
        "train_dataset = big_vision.datasets.jsonl.DataSource(\n",
        "    os.path.join(DATA_DIR, \"data_train90.jsonl\"),\n",
        "    fopen_keys={\"image\": DATA_DIR})\n",
        "\n",
        "val_dataset = big_vision.datasets.jsonl.DataSource(\n",
        "    os.path.join(DATA_DIR, \"data_val10.jsonl\"),\n",
        "    fopen_keys={\"image\": DATA_DIR})\n",
        "\n",
        "\n",
        "def train_data_iterator():\n",
        "  \"\"\"Never ending iterator over training examples.\"\"\"\n",
        "  # Shuffle examples and repeat so one can train for many epochs.\n",
        "  dataset = train_dataset.get_tfdata().shuffle(1_000).repeat()\n",
        "  for example in dataset.as_numpy_iterator():\n",
        "    image = Image.open(io.BytesIO(example[\"image\"]))\n",
        "    image = preprocess_image(image)\n",
        "\n",
        "    prefix = \"caption en\"  # Could also be a different prefix per example.\n",
        "    suffix = example[\"suffix\"].decode().lower()\n",
        "    tokens, mask_ar, mask_loss, _ = preprocess_tokens(prefix, suffix, SEQLEN)\n",
        "\n",
        "    yield {\n",
        "        \"image\": np.asarray(image),\n",
        "        \"text\": np.asarray(tokens),\n",
        "        \"mask_ar\": np.asarray(mask_ar),\n",
        "        \"mask_loss\": np.asarray(mask_loss),\n",
        "    }\n",
        "\n",
        "\n",
        "def validation_data_iterator():\n",
        "  \"\"\"Single iterator over validation examples.\"\"\"\n",
        "  for example in val_dataset.get_tfdata(ordered=True).as_numpy_iterator():\n",
        "    image = Image.open(io.BytesIO(example[\"image\"]))\n",
        "    image = preprocess_image(image)\n",
        "\n",
        "    prefix = \"caption en\"  # Could also be a different prefix per example.\n",
        "    tokens, mask_ar, _, mask_input = preprocess_tokens(prefix, seqlen=SEQLEN)\n",
        "\n",
        "    yield {\n",
        "        \"image\": np.asarray(image),\n",
        "        \"text\": np.asarray(tokens),\n",
        "        \"mask_ar\": np.asarray(mask_ar),\n",
        "        \"mask_input\": np.asarray(mask_input),\n",
        "    }\n"
      ]
    },
    {
      "cell_type": "code",
      "source": [],
      "metadata": {
        "id": "mfZrqxLDSOd8"
      },
      "execution_count": 11,
      "outputs": []
    },
    {
      "cell_type": "code",
      "execution_count": 12,
      "metadata": {
        "id": "BzJfb5t0nsLq",
        "colab": {
          "base_uri": "https://localhost:8080/",
          "height": 1000
        },
        "outputId": "b3020906-6051-4a71-db28-4043c6796f4d"
      },
      "outputs": [
        {
          "output_type": "stream",
          "name": "stdout",
          "text": [
            "Training examples\n"
          ]
        },
        {
          "output_type": "display_data",
          "data": {
            "text/plain": [
              "<IPython.core.display.HTML object>"
            ],
            "text/html": [
              "\n",
              "    <div style=\"display: inline-flex; align-items: center; justify-content: center;\">\n",
              "        <img style=\"width:128px; height:128px;\" src=\"data:image/jpeg;base64,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\" />\n",
              "        <p style=\"width:256px; margin:10px; font-size:small;\">a white tray with a green toothbrush and a metal dental mirror sits on a white wall. the tray is square and has a white paper on it. the toothbrush is green. the mirror is on a metal tray and has a white paper on it. there is also a small green object on the tray. the wall is white and the window is black.</p>\n",
              "    </div>\n",
              "    \n",
              "    <div style=\"display: inline-flex; align-items: center; justify-content: center;\">\n",
              "        <img style=\"width:128px; height:128px;\" src=\"data:image/jpeg;base64,/9j/4AAQSkZJRgABAQAAAQABAAD/2wBDAAgGBgcGBQgHBwcJCQgKDBQNDAsLDBkSEw8UHRofHh0aHBwgJC4nICIsIxwcKDcpLDAxNDQ0Hyc5PTgyPC4zNDL/2wBDAQkJCQwLDBgNDRgyIRwhMjIyMjIyMjIyMjIyMjIyMjIyMjIyMjIyMjIyMjIyMjIyMjIyMjIyMjIyMjIyMjIyMjL/wAARCADgAOADASIAAhEBAxEB/8QAHwAAAQUBAQEBAQEAAAAAAAAAAAECAwQFBgcICQoL/8QAtRAAAgEDAwIEAwUFBAQAAAF9AQIDAAQRBRIhMUEGE1FhByJxFDKBkaEII0KxwRVS0fAkM2JyggkKFhcYGRolJicoKSo0NTY3ODk6Q0RFRkdISUpTVFVWV1hZWmNkZWZnaGlqc3R1dnd4eXqDhIWGh4iJipKTlJWWl5iZmqKjpKWmp6ipqrKztLW2t7i5usLDxMXGx8jJytLT1NXW19jZ2uHi4+Tl5ufo6erx8vP09fb3+Pn6/8QAHwEAAwEBAQEBAQEBAQAAAAAAAAECAwQFBgcICQoL/8QAtREAAgECBAQDBAcFBAQAAQJ3AAECAxEEBSExBhJBUQdhcRMiMoEIFEKRobHBCSMzUvAVYnLRChYkNOEl8RcYGRomJygpKjU2Nzg5OkNERUZHSElKU1RVVldYWVpjZGVmZ2hpanN0dXZ3eHl6goOEhYaHiImKkpOUlZaXmJmaoqOkpaanqKmqsrO0tba3uLm6wsPExcbHyMnK0tPU1dbX2Nna4uPk5ebn6Onq8vP09fb3+Pn6/9oADAMBAAIRAxEAPwD2sdKXNMzS5rQzHUtMBp2aAHUtMzTgaQDqWmg0uaLgOpabmlzSGOopM0UAOpabmlzQAtLTc0ZoAdRmmbqN1IB+aTNMzRmgB+aTNM3UZoGOzSE0nNGKVwsGTRilopXGApcUlLSAo5pc1BvpwetbkE2aXNQ76A9K4E4NLmod9LvoHYmzTs1AHpd9AE+aXNQb6XfSuBNmlzUG+l30XGT7qN1QbqXcaLhYl3UbqiyaKVwsSbqN1MpaVwsLk0tJmlouMXFFJS0rgLmikopXAWikpaVx2FpRSUopXCxih6XfVcPS7q1uTYsbqN1QhqcDRcdiYNS7qiBpwNK4WJQaUGmA04GlcB4paYDTgaLgPzS5pmaXNFwH5pc0zNLmlcB9LTM0tK47Ds0uabS0cwWHZozSUZpcw7DqWm5pc1PMFhaWm5ozS5h2HUtM3UZqeYdh+aUGo80uaXMOxzoNOBqENTg1dRmTBqeGqANTg1ICcNTg1QhqcGpATA08GoQ1ODUrgS7qcDUIanBqVx2JQaUGow1LupASZpd1RZpc0DJc0uai3UuakZLupc1Fuo3UgJs0u6ot1G6kMl3Ubqj3UZpDJN1Gaj3Um6kxku6jdUW6jdUjJd1LuqHdRuoA54NTg1ZCa7at/EKsJqts653D869H2Ujk9rE0Q1PDVRXULcj7wp4voD/EKXs2P2iLoanBqpC8gP8AEKkFzEf4hS9mw50XA1ODVSNzEB96j7ZDjO6l7Nj50Xg1ODVnreRMcZqdZEboaXs2HOi1upd1V9w9aXcPWj2bDnLIejeBVfcPWjIpezDnLIcGl3j1qtuFG73o9mPnLW+l3D1qmXx1NKJM9DS9mHOXNw9aUMPWqe8+tLvPrS9mHOW9w9aXcKp7z60bz60ezHzlvcPWjcKpmQ+tJ5h9aXsg5y5uHrRuHrVLzD60nmtR7IfOXtw9aN49ao+caY94qDJNL2Qc7PKYoHbkg1YEUv8ADkVoIoH8NTrtHUAV7bPLRmLHc+rfnVhIrk/xN+dWzdW6HDOooGqWiHl1qXr0KVkMS3uv75q5Fb3HTearPr9lH/Gv51JpviKC5vSkLZZEL4B61jO6je2xpCzdu5fW2kI+ZjUi2h/vUy51uGCF5ZLWNiDzgE/1qPTvE1ndTqjWihSAQSv+Jrm9rJ7I39ml1L0VsEOTVtHVP4hWL4+1l9MtNNuLdeJQykDoMYrgR4sv2b7wArWmnUjzGVSShLlPWzOoXJYYqE36r/A/5GvM7fxNez3UMBPDuq/ma9RuL2CBirxxELwC65JP41NVOFkVTfPdjBqCf3TUi3yEE4OByTjpWV/wk8AkkVbeMbP9gdM1uQXUd9pd2BGq7oGPCgdvasud9TXlRANRgP8AGKd9vh/viuTjghkUOsxGfercNrDxumz+NbOKMVNnQ+Ylx91qljGwdazbRIoR8rg596vBwehqGi0ywGpd1QB6cHqbDJt1GaiDUu+kMeTSE0wtTS1Ax+aRmwKZupN1IZWuZptuIxzWVMt3J97OPSt3II6U0hT2FNOwnG55hqPiNLIMAmSPSuZu/GF1ISEBUe9YM2uvOW3pyaoS3PmHOMV6l4rY8y0nuaz61eSsWaY1E2oXDcmVvzrMElL5lQ5FKJf+2SHq7H8a7X4ap9p124L8qtucj6sBXngkr0H4XyH7dqLKRuWFOpx/GK5sZJ+wly72NsMv3sbnpv8AZdhHaSrJEWV2DHc2ckHNQwaPpcTq0doBgddxqndavcW1vJmKNiM9e1c/NruqTlAXRUZiML8oPbGfSvm4rGt/Ekj2XKiuhe+IlwtxoFhIi4jWY7ePUV5yJfSu88VpLJ4Ct2KYZZUO0c8YNcXpej3GoE5UqK97Lm3R1fVnl42yq/In0NvO1/T4v71xGP8Ax4V61JcWr6hNHPCGKSbSSTgnAP8AWuA0Tw5Pa+J9LccotzGW/wC+hXZTKf7SvCBkmbgfgKxzBvnik7aGuD0g20ae2wLNttI+RgnYOa04YhDbuECoHjIwB6ivPZ7i8gmcq0ixI5yq8c9cVoaFqU1xeRwvcSM+clWYkDj8/SvJlTrxu3O6O+M4S0scWlzdb2jiZ/lJGBVhX1QdDJXZ2ui2ttK77ASSTWgLWD+4Pyr6RTTR43s2cRDfavH0DH61p2+v6jEB5kDH6V04tof7gp32WA9UFS5LsUoNdTP07xH9omEckbKT6iuhV8gGs1bG3DBggBFXVYAYFZu3Q1jfqWN1LmoA1LuqWUS5pM1HvppekMkzRmot1G6kMkBozzUe6jdSKPnO90KSLLIM1RXS7knGw/lXZfaFzzzUqSxnHyivYdOLPHjUkupxp0e6BHyGn/2Jd/3DXcI6HsKmwMZAFTyRK55dzhF0K7J+4a734daTLZTai83AaJACfXeDSr9BXReGUMzXiDr5an8mFcuMivYSsb4Zv2quxmsbTbgKCfmx5h6VgtIfJCFMhWLYPRuP8K6DVFeNGUEkI27aeQfrXNrmWYJvAOSa8eK909F7nWRyLfeE4jKFI3rx19ar2ywwjCKFpdP8z/hG5VdMASqyn1BzUKrz1rty7+E/VnPjPjXobelMrara5/56r/OpbmMC5u2O1P3hJKnk8DmqWjcavac/8tV/nVi8z9pv8qOHI+vyiscd/Eia4b4GYl1NK6qpdVOSwfPJ9B+lM0MhfENmGj2yMcu5bcWPv6VUu8PKWACgEcetGiyEa/YbmORIFx2Az/ia5px9xmsH7yOwZ8O31NOD8daqyOfOcejH+dAc4r1Yr3Uccnqy2JKeJB61SD+ppwfmm0Fy+JKeHFUFenhzUtFXLwcU4OKpBzTg5qWhplssKaTUIkOKPMqWMfLKsUTSMcBRk1xU/wARNPivngDghTgntWx4tvDa+GbyVTgiM4NfO0UpJZieTzSKPpC08SWF0iETLlh61qRzxyrlHBFfMCahcRMrJM67emDXT+GvGmpQajBbPIZEkcLz2qRl4LzU6EAis6Kck1djfcMmvcZ4kbFtXx3qwk2F5NZzSYHWkWQtxmpLTNlJQe9dN4RlxqckfaSFh+oNcREXHeuo8IXITxHZq+ArsUOfcYrnxEb0pLyN6ErTRd1+6EE/l7WyeGrj7aeWa/VwxGGCbcc465Jr0rxPosk8i7YlIDfM3cfrXP6b4cnWeQupBMmcL8qj0P1614kWrHptO5rSzQf8I/8AJuLuUBJ9Ryf51kKSDWlrUA0+0trYNnJLViibBrty+m4UmvNnPi5qVT5GxpU2zVbQ/wDTVf51uavbFJpj2Zi36Y/pXK2s+y4jf+6wP613OsowDsULEc7f71ZY1e9Fl4Z+60ed3oCEgev5U+xQNrNnIP8AnoOPxqvqVw7XaIsTBWByB94fhVjw3p93/aizzggKd3PoOa5aivB27G8HaSOhdwZXPqxpN9VN5z1qRZK9VKyRxt6k+cmnqRVffTwaGCLK1ICKrK+KeHqGUT7sU4PVYsaN9IZb3CjdVKS6jiXMjhR71h634wsdJtmbzVZ8cAGpaKTMj4na6ltpZ05T+8m6j2rxhW21q+Idcm13UWuZeB0Ue1ZGM81LKQ5jxVrS5TFqVs46iRf51S71Ys5PJuopD0Rgako9IvPC+q6Upae1YoP4l5FUFLDjpXvzIHG1gCPQism/8L6RqAbzLVVc/wAScGumGOf20c08AvsM8bCk9TUkcfPWu21L4dzIGfTpw/pHJ1/OuWu9K1HTj/pVpIgH8WMj866oYiE9mcs8POG6EjUKOtWbecwTJIhwyMGB9CKzPtGB1pVufetGQnY99gu4dU0u3vwRiVAxHoe4/OqrSRA4HpXnvg/WpvtA00/Or5aIZIw3cfjXUaxdX2l6fNcTw+WAuFzk5J4FfO16cqdXkS32+Z7VKcZ0+Zs57xNfLcaw6I2UiAQY9e9ZasDWeLjcxZjkk5Jp/nr2Ne5CHLFRPKlPmk2aSSBSK9Yt2j1XRLO5X+KIA89xwf5V5Po6LdXaox4rtvC+qx2d1caNNKF+bzIc9PcV5+Mal7q3Wp24aLS5nsySXw7F9pMxGXxjJ5xS3cMWnaZO6DDbcZ9SeK2JbhSx5GPWuT8W6tEFjsYmy+d8nsOwrmpRdSXKzabVNXMhZqkV81jm4PapluiK9ZxPPUjWD08S81lC8OKsR3AbrUNFJmksmakVxVBZR61MJB61LRaZcDA0uV2kk8CqokrjfFnjJNOSS0gP74jFSykcx408T3UmsS29tMVijOMqa42a5muX3SyMx9zSTStPM8shyzHJNRZxWTdzVKwP1oGaCC3SnJ8p5pFIYw2tTxwM0TYJBFIhycGkB9fHpTsYANIQOlAGK5zccKSSNJBsdFZT1DDNKKdw31oAwL7wbot8XLWgjZv4o+CK5HUvhtcwqZNOuVlGf9XJwfzr07GKWtYV5w2ZlOhCe6PG9Os9R8O+ItPnvrSSNI7hCWx8p5Heuq8feImv9Na28t4xHd7Tu74B6V3DxRypskjVl64IzXNDw9Za9ZXC3avzcuyMpwRj5f6Vt9Y5pKUlsYug4xcYvc8n88+tJ5zZ612GpfDS/gdnsLiO4j/hV/lb/CuVvdJ1DTXK3lpLFjuy8fnXdCtTnszgnRqR3RueEpDJqgUntS6rdS23iKSVWIeNwVqHwa2NaSneLB5fiGbHcA1y2X1p36o6239VXkz1Y6SjaJHe/ajGph87YvAxjOK8jmu3uLmSZzy7E11k+r3cvhawVLghBZusiY6gAgc/hXDrIKWFw8KV+VCxNWU7XL6SZ61MHFZ6vUqSdq62c6ZeV6mSSqKyVOjioZSL6Se9TeesaFnYADqTXJaj4ptrCRowQWFchqXi27ug6IxVTWUpJGsYtnVa547W1uDDa/NjjNedX97JfXklxIcs5zVUszMWY5Jpc1i5XOiMbBmiinKBmpGTRjCHI5NRse1SM3p0qOT1obGhjGkU4NJSYoA+wgRjrThzyDSAUYxjiuU3HAU4U3O2nAg0DFoBzRntTSCOlAD8ZPIpkEKQKUTpkt+Zz/Wng+tIrguwB5xnFAhxWkeNZUKSIrqeoYZBpw469KTrQgMj/hF9JjuhdW9uLef1j4B/CuQ8Y+FNUm1A31pF9oiKgEJ94Y9q9IGcjmgn5jjPNaQm4y5luZzgpR5XseT2Pnf2RcxSoyNb2DkqwwQS7CuXWSvcbjSbWe6uJ5k3/aYVhdT02gk/1rmtR+HWmXBZrOSW1c9APmX8jzXTSxKV+bqc1XDyduXoecrJxUqyVp6j4M1nTclIftUX96Hk/l1rBYyQyGOVGRxwVYYIrrjOMtmcrjKO6NBZB61BNq9tBE58wbgOlZ+pXZg06V1ODjivP3uZXZizk596zqT5TSnDmJb2c3N5LKTncxqvmkzmlFcrdzrSsIaO1BoFACjpTlBJFNwamQgL70AGcNg05lV1zUWfm5qdVG01DLRVI2kikzTpRg1HVkn2MR+FBz160mc+oIpenuBXKbinvQB8vH6Ug6fWlPAJ5oGHPGRmnAimlsDk9Kahe4lEUa5JoEyZV3BifuryxHaqNtAkd2xR2l39AAeK3xjTbXJwyscbcd/rWW2oq08giQAKM5AxWkYx3ZnKT6D3QxvtdfxoGO1U4pZXumEjHax5PWrg71DtfQpX6jqOnc4pAcVJbQvdThUwAOSxoSbG3YoyX0aXIhbrmrYA6iobyNVuyDZymVTwQODVqaBkjWQsEJGSh7H2quRk8yImXIzwfrWdqGhaXq3N5ZxyPjhwMN+YrRDZAPUe1L3yP1pJtDaT3PNvEfwqi1C0ddNv3gbqqSruU/iOf515Xq3wz8T6SryPYfaIl/jtm38fTr+lfTmcHHSmMBjDDP1qvaSe7JVOK2PjpkaNyrKVYcEEYIpK+qNd8F6F4hiIvbKNpO0qfK4/4EOfzrzXXvgnJGDLod+HGP8AUXPB+gYcfmKpVF1E4s8hpyrk4rT1Tw7q2hzeVqVhNbt2LL8p+h6GqIIUe9aJ3IFYKi4703jimMcmhTzQxoHGDTkcg1KFVkJ71EPSovcewk/ODUHWrLr8lV8VSEz7EjcEFTwT0NLtODjiqySK4p6ytGQeo9K4ozT3OlxsTDjPqKRnC/X0qIyFz8vHsKVY2PUgVrZEXEJLHmpIJ2tpRJGBuHrSrGD1yaNo/hGDnvRdAWpdUaeNEaEEqcjuBVV1kmclmxntgf4UoIJA+6e4p3PPf2o5mtg5UxI4hHnGSTyTTmbbyaCwUdePQ1Czlj0+lCQNgXaRgM4HtWzBbi0gDAMZAuRj+tYgwOe9Xf7Vn8jy+CMY6U9RWH3OqPhNowxOORWXdXEs1wC7nC9AOKnaa6lTaGwPXAqOG2WNmJLMzckk1o6nQhQLKBdihSRx3p4PUEdKj6fSnbsEjrWZY4np3FNOOg49qb7qcexpCwwA3rwaBjhjdnp24pGzjsRRxikI9GxSAHSOaMxyoroequoINcTrvwp8N6uXlt4n0+c/xW/3SfdTx+WK7Yg9CB9RScjFF+wjwDXfhD4g0tWlsjHqMI7Q8SY/3T/QmuDubO4s5jFdQSQyjqkiFSPwNfXWeetU9Q0jTtXgMOpWcF3H281QSv0PUVam+pLifJqtyRThivbdZ+C2l3UjS6Rey2bHnypPnT8D1H61jL8HLmEYuJtw/vIcirUkxWaPKpJAelRV6xJ8IwR8k7ZrKvvhbqFvETA4c+hqr2Jsf//Z\" />\n",
              "        <p style=\"width:256px; margin:10px; font-size:small;\">two champagne glasses sit on a ledge overlooking the ocean, reflecting the setting sun. the glasses are filled with bubbly champagne, and the bubbles dance in the liquid. the sky is clear, and the water is calm. the mountains loom large in the distance, and the rocky cliffs on the shore line the water&#x27;s edge. </p>\n",
              "    </div>\n",
              "    \n",
              "    <div style=\"display: inline-flex; align-items: center; justify-content: center;\">\n",
              "        <img style=\"width:128px; height:128px;\" src=\"data:image/jpeg;base64,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\" />\n",
              "        <p style=\"width:256px; margin:10px; font-size:small;\">a garage filled with tools and supplies, showcasing a variety of items. a red tool chest sits on the floor, while a red tool box hangs on the wall. a black bucket sits on the floor, and a red stop sign hangs on the wall. </p>\n",
              "    </div>\n",
              "    \n",
              "    <div style=\"display: inline-flex; align-items: center; justify-content: center;\">\n",
              "        <img style=\"width:128px; height:128px;\" src=\"data:image/jpeg;base64,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\" />\n",
              "        <p style=\"width:256px; margin:10px; font-size:small;\">a shelf filled with various items, including a bottle of lotion, a bottle of shampoo, and a bottle of hand soap.</p>\n",
              "    </div>\n",
              "    \n",
              "    <div style=\"display: inline-flex; align-items: center; justify-content: center;\">\n",
              "        <img style=\"width:128px; height:128px;\" src=\"data:image/jpeg;base64,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\" />\n",
              "        <p style=\"width:256px; margin:10px; font-size:small;\">a close-up of a cherry tree with pink flowers. the tree has a brown trunk and a thin branch that is bent. the flowers on the tree are pink and white, with yellow stamens. the sky is clear and blue. the branches of the tree are brown and the flowers are blooming.</p>\n",
              "    </div>\n",
              "    \n",
              "    <div style=\"display: inline-flex; align-items: center; justify-content: center;\">\n",
              "        <img style=\"width:128px; height:128px;\" src=\"data:image/jpeg;base64,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\" />\n",
              "        <p style=\"width:256px; margin:10px; font-size:small;\">a group of people walk down a street. a black and white sign hangs from a building, while a brown sign with gold lettering advertises a business. a woman with a pink hat and a woman with a black backpack walk side by side, their backs facing the camera. a black and white sign on a pole and a black and white sign on a building are also visible. a woman with a blue jacket and a black backpack walk on the street.</p>\n",
              "    </div>\n",
              "    \n",
              "    <div style=\"display: inline-flex; align-items: center; justify-content: center;\">\n",
              "        <img style=\"width:128px; height:128px;\" src=\"data:image/jpeg;base64,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\" />\n",
              "        <p style=\"width:256px; margin:10px; font-size:small;\">a large stadium with a green soccer field and blue seats. the stadium has a large white circle on the field, a white goal in the cnter, and a white line on the field. there are people sitting in the stadium and standing on the field. the stadium has a large white circle on the field. </p>\n",
              "    </div>\n",
              "    \n",
              "    <div style=\"display: inline-flex; align-items: center; justify-content: center;\">\n",
              "        <img style=\"width:128px; height:128px;\" src=\"data:image/jpeg;base64,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\" />\n",
              "        <p style=\"width:256px; margin:10px; font-size:small;\">a row of buildings with a tree in the middle of them. the buildings are made of brick and have white windows. the sky is cloudy. the bikes are parked on the sidewalk next to the tree.</p>\n",
              "    </div>\n",
              "    "
            ]
          },
          "metadata": {}
        }
      ],
      "source": [
        "# @title Inspect training examples.\n",
        "def render_inline(image, resize=(128, 128)):\n",
        "  \"\"\"Convert image into inline html.\"\"\"\n",
        "  image = Image.fromarray(image)\n",
        "  image.resize(resize)\n",
        "  with io.BytesIO() as buffer:\n",
        "    image.save(buffer, format='jpeg')\n",
        "    image_b64 = str(base64.b64encode(buffer.getvalue()), \"utf-8\")\n",
        "    return f\"data:image/jpeg;base64,{image_b64}\"\n",
        "\n",
        "def render_example(image, caption):\n",
        "  image = ((image + 1)/2 * 255).astype(np.uint8)  # [-1,1] -> [0, 255]\n",
        "  return f\"\"\"\n",
        "    <div style=\"display: inline-flex; align-items: center; justify-content: center;\">\n",
        "        <img style=\"width:128px; height:128px;\" src=\"{render_inline(image, resize=(64,64))}\" />\n",
        "        <p style=\"width:256px; margin:10px; font-size:small;\">{html.escape(caption)}</p>\n",
        "    </div>\n",
        "    \"\"\"\n",
        "\n",
        "html_out = \"\"\n",
        "for idx, example in zip(range(8), train_data_iterator()):\n",
        "  caption = postprocess_tokens(example[\"text\"])  # detokenize model input.\n",
        "  caption = caption[len(\"caption en\\n\"):]        # strip prefix\n",
        "  html_out += render_example(example[\"image\"], caption)\n",
        "\n",
        "print(\"Training examples\")\n",
        "display(HTML(html_out))"
      ]
    },
    {
      "cell_type": "code",
      "execution_count": 13,
      "metadata": {
        "id": "dwUV_imW3WQJ"
      },
      "outputs": [],
      "source": [
        "# @title Define the training step and evaluation loop.\n",
        "#\n",
        "# The main update_fn using simple SGD.\n",
        "#\n",
        "@functools.partial(jax.jit, donate_argnums=(0,))\n",
        "def update_fn(params, batch, learning_rate):\n",
        "  imgs, txts, mask_ar = batch[\"image\"], batch[\"text\"], batch[\"mask_ar\"]\n",
        "\n",
        "  def loss_fn(params):\n",
        "    text_logits, _ = model.apply({\"params\": params}, imgs, txts[:, :-1], mask_ar[:, :-1], train=True)\n",
        "    logp = jax.nn.log_softmax(text_logits, axis=-1)\n",
        "\n",
        "    # The model takes as input txts[:, :-1] but the loss is defined as predicting\n",
        "    # next tokens txts[:, 1:]. Additionally, mask_loss[:, 1:] indicates which tokens\n",
        "    # are part of the loss (e.g. prefix and padded tokens are not included).\n",
        "    mask_loss = batch[\"mask_loss\"][:, 1:]\n",
        "    targets = jax.nn.one_hot(txts[:, 1:], text_logits.shape[-1])\n",
        "\n",
        "    # Compute the loss per example. i.e. the mean of per token pplx.\n",
        "    # Since each example has a different number of tokens we normalize it.\n",
        "    token_pplx = jnp.sum(logp * targets, axis=-1)  # sum across vocab_size.\n",
        "    example_loss = -jnp.sum(token_pplx * mask_loss, axis=-1)  # sum across seq_len.\n",
        "    example_loss /= jnp.clip(jnp.sum(mask_loss, -1), 1)  # weight by num of tokens.\n",
        "\n",
        "    # batch_loss: mean of per example loss.\n",
        "    return jnp.mean(example_loss)\n",
        "\n",
        "  loss, grads = jax.value_and_grad(loss_fn)(params)\n",
        "\n",
        "  # Apply gradients to trainable params using SGD.\n",
        "  def apply_grad(param, gradient, trainable):\n",
        "    if not trainable: return param\n",
        "    return param - learning_rate * gradient\n",
        "\n",
        "  params = jax.tree_util.tree_map(apply_grad, params, grads, trainable_mask)\n",
        "\n",
        "  return params, loss\n",
        "\n",
        "# Evaluation/inference loop.\n",
        "def make_predictions(data_iterator, *, num_examples=None,\n",
        "                     batch_size=4, seqlen=SEQLEN, sampler=\"greedy\"):\n",
        "  outputs = []\n",
        "  while True:\n",
        "    # Construct a list of examples in the batch.\n",
        "    examples = []\n",
        "    try:\n",
        "      for _ in range(batch_size):\n",
        "        examples.append(next(data_iterator))\n",
        "        examples[-1][\"_mask\"] = np.array(True)  # Indicates true example.\n",
        "    except StopIteration:\n",
        "      if len(examples) == 0:\n",
        "        return outputs\n",
        "\n",
        "    # Not enough examples to complete a batch. Pad by repeating last example.\n",
        "    while len(examples) % batch_size:\n",
        "      examples.append(dict(examples[-1]))\n",
        "      examples[-1][\"_mask\"] = np.array(False)  # Indicates padding example.\n",
        "\n",
        "    # Convert list of examples into a dict of np.arrays and load onto devices.\n",
        "    batch = jax.tree.map(lambda *x: np.stack(x), *examples)\n",
        "    batch = big_vision.utils.reshard(batch, data_sharding)\n",
        "\n",
        "    # Make model predictions\n",
        "    tokens = decode({\"params\": params}, batch=batch,\n",
        "                    max_decode_len=seqlen, sampler=sampler)\n",
        "\n",
        "    # Fetch model predictions to device and detokenize.\n",
        "    tokens, mask = jax.device_get((tokens, batch[\"_mask\"]))\n",
        "    tokens = tokens[mask]  # remove padding examples.\n",
        "    responses = [postprocess_tokens(t) for t in tokens]\n",
        "\n",
        "    # Append to html output.\n",
        "    for example, response in zip(examples, responses):\n",
        "      outputs.append((example[\"image\"], response))\n",
        "      if num_examples and len(outputs) >= num_examples:\n",
        "        return outputs"
      ]
    },
    {
      "cell_type": "code",
      "execution_count": 14,
      "metadata": {
        "colab": {
          "base_uri": "https://localhost:8080/"
        },
        "id": "067wj_6bZAG3",
        "outputId": "9a5d630a-2772-4488-abee-a41e7cc08d43"
      },
      "outputs": [
        {
          "output_type": "stream",
          "name": "stdout",
          "text": [
            "1\n",
            "1\n",
            "1\n",
            "1\n",
            "step:  1/64   lr: 0.00500   loss: 3.4057\n",
            "step:  2/64   lr: 0.01000   loss: 3.1755\n",
            "step:  3/64   lr: 0.01500   loss: 3.1895\n",
            "step:  4/64   lr: 0.02000   loss: 2.9705\n",
            "step:  5/64   lr: 0.02500   loss: 3.4559\n",
            "step:  6/64   lr: 0.03000   loss: 7.6176\n",
            "step:  7/64   lr: 0.02998   loss: 4.9229\n",
            "step:  8/64   lr: 0.02992   loss: 3.9913\n",
            "step:  9/64   lr: 0.02981   loss: 3.9609\n",
            "step: 10/64   lr: 0.02966   loss: 5.5694\n",
            "step: 11/64   lr: 0.02947   loss: 3.9006\n",
            "step: 12/64   lr: 0.02924   loss: 4.6279\n",
            "step: 13/64   lr: 0.02897   loss: 3.7008\n",
            "step: 14/64   lr: 0.02866   loss: 3.3988\n",
            "step: 15/64   lr: 0.02831   loss: 2.8654\n",
            "step: 16/64   lr: 0.02792   loss: 2.5812\n",
            "step: 17/64   lr: 0.02750   loss: 2.6905\n",
            "step: 18/64   lr: 0.02704   loss: 2.8392\n",
            "step: 19/64   lr: 0.02655   loss: 2.3948\n",
            "step: 20/64   lr: 0.02602   loss: 2.3355\n",
            "step: 21/64   lr: 0.02546   loss: 2.4005\n",
            "step: 22/64   lr: 0.02488   loss: 2.1720\n",
            "step: 23/64   lr: 0.02426   loss: 2.2489\n",
            "step: 24/64   lr: 0.02362   loss: 2.2357\n",
            "step: 25/64   lr: 0.02296   loss: 2.1361\n",
            "step: 26/64   lr: 0.02227   loss: 2.3014\n",
            "step: 27/64   lr: 0.02156   loss: 2.1904\n",
            "step: 28/64   lr: 0.02083   loss: 2.2121\n",
            "step: 29/64   lr: 0.02009   loss: 2.1133\n",
            "step: 30/64   lr: 0.01933   loss: 2.0924\n",
            "step: 31/64   lr: 0.01856   loss: 2.0632\n",
            "step: 32/64   lr: 0.01778   loss: 1.8446\n",
            "step: 33/64   lr: 0.01699   loss: 1.8907\n",
            "step: 34/64   lr: 0.01620   loss: 2.1576\n",
            "step: 35/64   lr: 0.01540   loss: 2.0098\n",
            "step: 36/64   lr: 0.01460   loss: 2.0017\n",
            "step: 37/64   lr: 0.01380   loss: 1.9479\n",
            "step: 38/64   lr: 0.01301   loss: 1.9402\n",
            "step: 39/64   lr: 0.01222   loss: 2.1356\n",
            "step: 40/64   lr: 0.01144   loss: 2.0573\n",
            "step: 41/64   lr: 0.01067   loss: 1.8522\n",
            "step: 42/64   lr: 0.00991   loss: 2.0700\n",
            "step: 43/64   lr: 0.00917   loss: 2.2423\n",
            "step: 44/64   lr: 0.00844   loss: 1.9240\n",
            "step: 45/64   lr: 0.00773   loss: 1.9042\n",
            "step: 46/64   lr: 0.00704   loss: 2.1093\n",
            "step: 47/64   lr: 0.00638   loss: 1.9759\n",
            "step: 48/64   lr: 0.00574   loss: 2.0042\n",
            "step: 49/64   lr: 0.00512   loss: 2.0121\n",
            "step: 50/64   lr: 0.00454   loss: 1.7672\n",
            "step: 51/64   lr: 0.00398   loss: 1.8702\n",
            "step: 52/64   lr: 0.00345   loss: 1.9047\n",
            "step: 53/64   lr: 0.00296   loss: 1.9884\n",
            "step: 54/64   lr: 0.00250   loss: 1.9201\n",
            "step: 55/64   lr: 0.00208   loss: 1.9503\n",
            "step: 56/64   lr: 0.00169   loss: 2.1770\n",
            "step: 57/64   lr: 0.00134   loss: 1.9191\n",
            "step: 58/64   lr: 0.00103   loss: 1.9575\n",
            "step: 59/64   lr: 0.00076   loss: 1.8141\n",
            "step: 60/64   lr: 0.00053   loss: 1.9212\n",
            "step: 61/64   lr: 0.00034   loss: 1.9352\n",
            "step: 62/64   lr: 0.00019   loss: 2.0201\n",
            "step: 63/64   lr: 0.00008   loss: 2.0803\n",
            "step: 64/64   lr: 0.00002   loss: 2.1000\n",
            "CPU times: user 7min 47s, sys: 6min 57s, total: 14min 44s\n",
            "Wall time: 15min 9s\n"
          ]
        }
      ],
      "source": [
        "# @title Run training loop.\n",
        "#\n",
        "# Run a short training loop with cosine learning rate schedule.\n",
        "#\n",
        "# Note: the first step can be quite slow on some machines (up to several minutes)\n",
        "# due to XLA compilation of the jax.jit'd function.\n",
        "#\n",
        "%%time\n",
        "\n",
        "BATCH_SIZE = 8\n",
        "TRAIN_EXAMPLES = 512\n",
        "LEARNING_RATE = 0.03\n",
        "\n",
        "TRAIN_STEPS = TRAIN_EXAMPLES // BATCH_SIZE\n",
        "EVAL_STEPS = TRAIN_STEPS // 4\n",
        "\n",
        "train_data_it = train_data_iterator()\n",
        "\n",
        "sched_fn = big_vision.utils.create_learning_rate_schedule(\n",
        "    total_steps=TRAIN_STEPS+1, base=LEARNING_RATE,\n",
        "    decay_type=\"cosine\", warmup_percent=0.10)\n",
        "\n",
        "for step in range(1, TRAIN_STEPS+1):\n",
        "  # Make list of N training examples.\n",
        "  examples = [next(train_data_it) for _ in range(BATCH_SIZE)]\n",
        "\n",
        "  # Convert list of examples into a dict of np.arrays and load onto devices.\n",
        "  batch = jax.tree.map(lambda *x: np.stack(x), *examples)\n",
        "  batch = big_vision.utils.reshard(batch, data_sharding)\n",
        "\n",
        "  # Training step and report training loss\n",
        "  learning_rate = sched_fn(step)\n",
        "  params, loss = update_fn(params, batch, learning_rate)\n",
        "\n",
        "  loss = jax.device_get(loss)\n",
        "  print(f\"step: {step:2d}/{TRAIN_STEPS:2d}   lr: {learning_rate:.5f}   loss: {loss:.4f}\")\n",
        "\n",
        "  '''if step == 1 or (step % EVAL_STEPS) == 0:\n",
        "    print(f\"Model predictions at step {step}\")\n",
        "    html_out = \"\"\n",
        "    for image, caption in make_predictions(\n",
        "        validation_data_iterator(), num_examples=4, batch_size=4):\n",
        "      html_out += render_example(image, caption)\n",
        "    display(HTML(html_out))'''\n"
      ]
    },
    {
      "cell_type": "code",
      "execution_count": 18,
      "metadata": {
        "id": "hgUhEKjzPdMQ",
        "colab": {
          "base_uri": "https://localhost:8080/",
          "height": 436
        },
        "outputId": "2d5877d4-8ef4-423c-be5c-d1bc117e9661"
      },
      "outputs": [
        {
          "output_type": "stream",
          "name": "stdout",
          "text": [
            "Model predictions\n"
          ]
        },
        {
          "output_type": "error",
          "ename": "KeyboardInterrupt",
          "evalue": "",
          "traceback": [
            "\u001b[0;31m---------------------------------------------------------------------------\u001b[0m",
            "\u001b[0;31mKeyboardInterrupt\u001b[0m                         Traceback (most recent call last)",
            "\u001b[0;32m<timed exec>\u001b[0m in \u001b[0;36m<module>\u001b[0;34m\u001b[0m\n",
            "\u001b[0;32m<ipython-input-13-defffa862f99>\u001b[0m in \u001b[0;36mmake_predictions\u001b[0;34m(data_iterator, num_examples, batch_size, seqlen, sampler)\u001b[0m\n\u001b[1;32m     62\u001b[0m \u001b[0;34m\u001b[0m\u001b[0m\n\u001b[1;32m     63\u001b[0m     \u001b[0;31m# Make model predictions\u001b[0m\u001b[0;34m\u001b[0m\u001b[0;34m\u001b[0m\u001b[0m\n\u001b[0;32m---> 64\u001b[0;31m     tokens = decode({\"params\": params}, batch=batch,\n\u001b[0m\u001b[1;32m     65\u001b[0m                     max_decode_len=seqlen, sampler=sampler)\n\u001b[1;32m     66\u001b[0m \u001b[0;34m\u001b[0m\u001b[0m\n",
            "\u001b[0;32m/content/drive/MyDrive/sara/sarart-implementation/big_vision/trainers/proj/paligemma/predict_fns.py\u001b[0m in \u001b[0;36m_decode\u001b[0;34m(train_state, batch, **kwargs)\u001b[0m\n\u001b[1;32m    156\u001b[0m \u001b[0;34m\u001b[0m\u001b[0m\n\u001b[1;32m    157\u001b[0m \u001b[0;32mdef\u001b[0m \u001b[0m_decode\u001b[0m\u001b[0;34m(\u001b[0m\u001b[0mtrain_state\u001b[0m\u001b[0;34m,\u001b[0m \u001b[0mbatch\u001b[0m\u001b[0;34m,\u001b[0m \u001b[0;34m**\u001b[0m\u001b[0mkwargs\u001b[0m\u001b[0;34m)\u001b[0m\u001b[0;34m:\u001b[0m\u001b[0;34m\u001b[0m\u001b[0;34m\u001b[0m\u001b[0m\n\u001b[0;32m--> 158\u001b[0;31m   \u001b[0mtokens\u001b[0m\u001b[0;34m,\u001b[0m \u001b[0m_\u001b[0m \u001b[0;34m=\u001b[0m \u001b[0m_decode_with_logp\u001b[0m\u001b[0;34m(\u001b[0m\u001b[0mtrain_state\u001b[0m\u001b[0;34m,\u001b[0m \u001b[0mbatch\u001b[0m\u001b[0;34m,\u001b[0m \u001b[0;34m**\u001b[0m\u001b[0mkwargs\u001b[0m\u001b[0;34m)\u001b[0m\u001b[0;34m\u001b[0m\u001b[0;34m\u001b[0m\u001b[0m\n\u001b[0m\u001b[1;32m    159\u001b[0m   \u001b[0;32mreturn\u001b[0m \u001b[0mtokens\u001b[0m\u001b[0;34m\u001b[0m\u001b[0;34m\u001b[0m\u001b[0m\n\u001b[1;32m    160\u001b[0m \u001b[0;34m\u001b[0m\u001b[0m\n",
            "\u001b[0;32m/content/drive/MyDrive/sara/sarart-implementation/big_vision/trainers/proj/paligemma/predict_fns.py\u001b[0m in \u001b[0;36m_decode_with_logp\u001b[0;34m(train_state, batch, model, devices, max_decode_len, eos_token, best_of_n, sampler, eos_look_behind)\u001b[0m\n\u001b[1;32m    137\u001b[0m \u001b[0;34m\u001b[0m\u001b[0m\n\u001b[1;32m    138\u001b[0m     \u001b[0mstops\u001b[0m\u001b[0;34m.\u001b[0m\u001b[0mappend\u001b[0m\u001b[0;34m(\u001b[0m\u001b[0mdecode_early_stop\u001b[0m\u001b[0;34m(\u001b[0m\u001b[0mstate\u001b[0m\u001b[0;34m,\u001b[0m \u001b[0mmask\u001b[0m\u001b[0;34m,\u001b[0m \u001b[0meos_token\u001b[0m\u001b[0;34m=\u001b[0m\u001b[0meos_token\u001b[0m\u001b[0;34m)\u001b[0m\u001b[0;34m)\u001b[0m\u001b[0;34m\u001b[0m\u001b[0;34m\u001b[0m\u001b[0m\n\u001b[0;32m--> 139\u001b[0;31m     \u001b[0;32mif\u001b[0m \u001b[0mlen\u001b[0m\u001b[0;34m(\u001b[0m\u001b[0mstops\u001b[0m\u001b[0;34m)\u001b[0m \u001b[0;34m==\u001b[0m \u001b[0mstops\u001b[0m\u001b[0;34m.\u001b[0m\u001b[0mmaxlen\u001b[0m \u001b[0;32mand\u001b[0m \u001b[0mjax\u001b[0m\u001b[0;34m.\u001b[0m\u001b[0mdevice_get\u001b[0m\u001b[0;34m(\u001b[0m\u001b[0mstops\u001b[0m\u001b[0;34m[\u001b[0m\u001b[0;36m0\u001b[0m\u001b[0;34m]\u001b[0m\u001b[0;34m)\u001b[0m\u001b[0;34m:\u001b[0m\u001b[0;34m\u001b[0m\u001b[0;34m\u001b[0m\u001b[0m\n\u001b[0m\u001b[1;32m    140\u001b[0m       \u001b[0;32mbreak\u001b[0m\u001b[0;34m\u001b[0m\u001b[0;34m\u001b[0m\u001b[0m\n\u001b[1;32m    141\u001b[0m \u001b[0;34m\u001b[0m\u001b[0m\n",
            "\u001b[0;32m/usr/local/lib/python3.10/dist-packages/jax/_src/api.py\u001b[0m in \u001b[0;36mdevice_get\u001b[0;34m(x)\u001b[0m\n\u001b[1;32m   2682\u001b[0m       \u001b[0;32mexcept\u001b[0m \u001b[0mAttributeError\u001b[0m\u001b[0;34m:\u001b[0m\u001b[0;34m\u001b[0m\u001b[0;34m\u001b[0m\u001b[0m\n\u001b[1;32m   2683\u001b[0m         \u001b[0;32mpass\u001b[0m\u001b[0;34m\u001b[0m\u001b[0;34m\u001b[0m\u001b[0m\n\u001b[0;32m-> 2684\u001b[0;31m     \u001b[0;32mreturn\u001b[0m \u001b[0mtree_map\u001b[0m\u001b[0;34m(\u001b[0m\u001b[0m_device_get\u001b[0m\u001b[0;34m,\u001b[0m \u001b[0mx\u001b[0m\u001b[0;34m)\u001b[0m\u001b[0;34m\u001b[0m\u001b[0;34m\u001b[0m\u001b[0m\n\u001b[0m\u001b[1;32m   2685\u001b[0m \u001b[0;34m\u001b[0m\u001b[0m\n\u001b[1;32m   2686\u001b[0m \u001b[0;34m\u001b[0m\u001b[0m\n",
            "\u001b[0;32m/usr/local/lib/python3.10/dist-packages/jax/_src/tree_util.py\u001b[0m in \u001b[0;36mtree_map\u001b[0;34m(f, tree, is_leaf, *rest)\u001b[0m\n\u001b[1;32m    342\u001b[0m   \u001b[0mleaves\u001b[0m\u001b[0;34m,\u001b[0m \u001b[0mtreedef\u001b[0m \u001b[0;34m=\u001b[0m \u001b[0mtree_flatten\u001b[0m\u001b[0;34m(\u001b[0m\u001b[0mtree\u001b[0m\u001b[0;34m,\u001b[0m \u001b[0mis_leaf\u001b[0m\u001b[0;34m)\u001b[0m\u001b[0;34m\u001b[0m\u001b[0;34m\u001b[0m\u001b[0m\n\u001b[1;32m    343\u001b[0m   \u001b[0mall_leaves\u001b[0m \u001b[0;34m=\u001b[0m \u001b[0;34m[\u001b[0m\u001b[0mleaves\u001b[0m\u001b[0;34m]\u001b[0m \u001b[0;34m+\u001b[0m \u001b[0;34m[\u001b[0m\u001b[0mtreedef\u001b[0m\u001b[0;34m.\u001b[0m\u001b[0mflatten_up_to\u001b[0m\u001b[0;34m(\u001b[0m\u001b[0mr\u001b[0m\u001b[0;34m)\u001b[0m \u001b[0;32mfor\u001b[0m \u001b[0mr\u001b[0m \u001b[0;32min\u001b[0m \u001b[0mrest\u001b[0m\u001b[0;34m]\u001b[0m\u001b[0;34m\u001b[0m\u001b[0;34m\u001b[0m\u001b[0m\n\u001b[0;32m--> 344\u001b[0;31m   \u001b[0;32mreturn\u001b[0m \u001b[0mtreedef\u001b[0m\u001b[0;34m.\u001b[0m\u001b[0munflatten\u001b[0m\u001b[0;34m(\u001b[0m\u001b[0mf\u001b[0m\u001b[0;34m(\u001b[0m\u001b[0;34m*\u001b[0m\u001b[0mxs\u001b[0m\u001b[0;34m)\u001b[0m \u001b[0;32mfor\u001b[0m \u001b[0mxs\u001b[0m \u001b[0;32min\u001b[0m \u001b[0mzip\u001b[0m\u001b[0;34m(\u001b[0m\u001b[0;34m*\u001b[0m\u001b[0mall_leaves\u001b[0m\u001b[0;34m)\u001b[0m\u001b[0;34m)\u001b[0m\u001b[0;34m\u001b[0m\u001b[0;34m\u001b[0m\u001b[0m\n\u001b[0m\u001b[1;32m    345\u001b[0m \u001b[0;34m\u001b[0m\u001b[0m\n\u001b[1;32m    346\u001b[0m \u001b[0;34m\u001b[0m\u001b[0m\n",
            "\u001b[0;32m/usr/local/lib/python3.10/dist-packages/jax/_src/tree_util.py\u001b[0m in \u001b[0;36m<genexpr>\u001b[0;34m(.0)\u001b[0m\n\u001b[1;32m    342\u001b[0m   \u001b[0mleaves\u001b[0m\u001b[0;34m,\u001b[0m \u001b[0mtreedef\u001b[0m \u001b[0;34m=\u001b[0m \u001b[0mtree_flatten\u001b[0m\u001b[0;34m(\u001b[0m\u001b[0mtree\u001b[0m\u001b[0;34m,\u001b[0m \u001b[0mis_leaf\u001b[0m\u001b[0;34m)\u001b[0m\u001b[0;34m\u001b[0m\u001b[0;34m\u001b[0m\u001b[0m\n\u001b[1;32m    343\u001b[0m   \u001b[0mall_leaves\u001b[0m \u001b[0;34m=\u001b[0m \u001b[0;34m[\u001b[0m\u001b[0mleaves\u001b[0m\u001b[0;34m]\u001b[0m \u001b[0;34m+\u001b[0m \u001b[0;34m[\u001b[0m\u001b[0mtreedef\u001b[0m\u001b[0;34m.\u001b[0m\u001b[0mflatten_up_to\u001b[0m\u001b[0;34m(\u001b[0m\u001b[0mr\u001b[0m\u001b[0;34m)\u001b[0m \u001b[0;32mfor\u001b[0m \u001b[0mr\u001b[0m \u001b[0;32min\u001b[0m \u001b[0mrest\u001b[0m\u001b[0;34m]\u001b[0m\u001b[0;34m\u001b[0m\u001b[0;34m\u001b[0m\u001b[0m\n\u001b[0;32m--> 344\u001b[0;31m   \u001b[0;32mreturn\u001b[0m \u001b[0mtreedef\u001b[0m\u001b[0;34m.\u001b[0m\u001b[0munflatten\u001b[0m\u001b[0;34m(\u001b[0m\u001b[0mf\u001b[0m\u001b[0;34m(\u001b[0m\u001b[0;34m*\u001b[0m\u001b[0mxs\u001b[0m\u001b[0;34m)\u001b[0m \u001b[0;32mfor\u001b[0m \u001b[0mxs\u001b[0m \u001b[0;32min\u001b[0m \u001b[0mzip\u001b[0m\u001b[0;34m(\u001b[0m\u001b[0;34m*\u001b[0m\u001b[0mall_leaves\u001b[0m\u001b[0;34m)\u001b[0m\u001b[0;34m)\u001b[0m\u001b[0;34m\u001b[0m\u001b[0;34m\u001b[0m\u001b[0m\n\u001b[0m\u001b[1;32m    345\u001b[0m \u001b[0;34m\u001b[0m\u001b[0m\n\u001b[1;32m    346\u001b[0m \u001b[0;34m\u001b[0m\u001b[0m\n",
            "\u001b[0;32m/usr/local/lib/python3.10/dist-packages/jax/_src/api.py\u001b[0m in \u001b[0;36m_device_get\u001b[0;34m(x)\u001b[0m\n\u001b[1;32m   2643\u001b[0m     \u001b[0;32mreturn\u001b[0m \u001b[0mx\u001b[0m\u001b[0;34m\u001b[0m\u001b[0;34m\u001b[0m\u001b[0m\n\u001b[1;32m   2644\u001b[0m   \u001b[0;32melse\u001b[0m\u001b[0;34m:\u001b[0m\u001b[0;34m\u001b[0m\u001b[0;34m\u001b[0m\u001b[0m\n\u001b[0;32m-> 2645\u001b[0;31m     \u001b[0;32mreturn\u001b[0m \u001b[0mtoarray\u001b[0m\u001b[0;34m(\u001b[0m\u001b[0;34m)\u001b[0m\u001b[0;34m\u001b[0m\u001b[0;34m\u001b[0m\u001b[0m\n\u001b[0m\u001b[1;32m   2646\u001b[0m \u001b[0;34m\u001b[0m\u001b[0m\n\u001b[1;32m   2647\u001b[0m \u001b[0;32mdef\u001b[0m \u001b[0mdevice_get\u001b[0m\u001b[0;34m(\u001b[0m\u001b[0mx\u001b[0m\u001b[0;34m:\u001b[0m \u001b[0mAny\u001b[0m\u001b[0;34m)\u001b[0m\u001b[0;34m:\u001b[0m\u001b[0;34m\u001b[0m\u001b[0;34m\u001b[0m\u001b[0m\n",
            "\u001b[0;32m/usr/local/lib/python3.10/dist-packages/jax/_src/array.py\u001b[0m in \u001b[0;36m__array__\u001b[0;34m(self, dtype, context, copy)\u001b[0m\n\u001b[1;32m    412\u001b[0m     \u001b[0;31m# copy argument is supported by np.asarray starting in numpy 2.0\u001b[0m\u001b[0;34m\u001b[0m\u001b[0;34m\u001b[0m\u001b[0m\n\u001b[1;32m    413\u001b[0m     \u001b[0mkwds\u001b[0m \u001b[0;34m=\u001b[0m \u001b[0;34m{\u001b[0m\u001b[0;34m}\u001b[0m \u001b[0;32mif\u001b[0m \u001b[0mcopy\u001b[0m \u001b[0;32mis\u001b[0m \u001b[0;32mNone\u001b[0m \u001b[0;32melse\u001b[0m \u001b[0;34m{\u001b[0m\u001b[0;34m'copy'\u001b[0m\u001b[0;34m:\u001b[0m \u001b[0mcopy\u001b[0m\u001b[0;34m}\u001b[0m\u001b[0;34m\u001b[0m\u001b[0;34m\u001b[0m\u001b[0m\n\u001b[0;32m--> 414\u001b[0;31m     \u001b[0;32mreturn\u001b[0m \u001b[0mnp\u001b[0m\u001b[0;34m.\u001b[0m\u001b[0masarray\u001b[0m\u001b[0;34m(\u001b[0m\u001b[0mself\u001b[0m\u001b[0;34m.\u001b[0m\u001b[0m_value\u001b[0m\u001b[0;34m,\u001b[0m \u001b[0mdtype\u001b[0m\u001b[0;34m=\u001b[0m\u001b[0mdtype\u001b[0m\u001b[0;34m,\u001b[0m \u001b[0;34m**\u001b[0m\u001b[0mkwds\u001b[0m\u001b[0;34m)\u001b[0m\u001b[0;34m\u001b[0m\u001b[0;34m\u001b[0m\u001b[0m\n\u001b[0m\u001b[1;32m    415\u001b[0m \u001b[0;34m\u001b[0m\u001b[0m\n\u001b[1;32m    416\u001b[0m   def __dlpack__(self, *, stream: int | Any | None = None,\n",
            "\u001b[0;32m/usr/local/lib/python3.10/dist-packages/jax/_src/profiler.py\u001b[0m in \u001b[0;36mwrapper\u001b[0;34m(*args, **kwargs)\u001b[0m\n\u001b[1;32m    331\u001b[0m   \u001b[0;32mdef\u001b[0m \u001b[0mwrapper\u001b[0m\u001b[0;34m(\u001b[0m\u001b[0;34m*\u001b[0m\u001b[0margs\u001b[0m\u001b[0;34m,\u001b[0m \u001b[0;34m**\u001b[0m\u001b[0mkwargs\u001b[0m\u001b[0;34m)\u001b[0m\u001b[0;34m:\u001b[0m\u001b[0;34m\u001b[0m\u001b[0;34m\u001b[0m\u001b[0m\n\u001b[1;32m    332\u001b[0m     \u001b[0;32mwith\u001b[0m \u001b[0mTraceAnnotation\u001b[0m\u001b[0;34m(\u001b[0m\u001b[0mname\u001b[0m\u001b[0;34m,\u001b[0m \u001b[0;34m**\u001b[0m\u001b[0mdecorator_kwargs\u001b[0m\u001b[0;34m)\u001b[0m\u001b[0;34m:\u001b[0m\u001b[0;34m\u001b[0m\u001b[0;34m\u001b[0m\u001b[0m\n\u001b[0;32m--> 333\u001b[0;31m       \u001b[0;32mreturn\u001b[0m \u001b[0mfunc\u001b[0m\u001b[0;34m(\u001b[0m\u001b[0;34m*\u001b[0m\u001b[0margs\u001b[0m\u001b[0;34m,\u001b[0m \u001b[0;34m**\u001b[0m\u001b[0mkwargs\u001b[0m\u001b[0;34m)\u001b[0m\u001b[0;34m\u001b[0m\u001b[0;34m\u001b[0m\u001b[0m\n\u001b[0m\u001b[1;32m    334\u001b[0m     \u001b[0;32mreturn\u001b[0m \u001b[0mwrapper\u001b[0m\u001b[0;34m\u001b[0m\u001b[0;34m\u001b[0m\u001b[0m\n\u001b[1;32m    335\u001b[0m   \u001b[0;32mreturn\u001b[0m \u001b[0mwrapper\u001b[0m\u001b[0;34m\u001b[0m\u001b[0;34m\u001b[0m\u001b[0m\n",
            "\u001b[0;32m/usr/local/lib/python3.10/dist-packages/jax/_src/array.py\u001b[0m in \u001b[0;36m_value\u001b[0;34m(self)\u001b[0m\n\u001b[1;32m    611\u001b[0m     \u001b[0;32mif\u001b[0m \u001b[0mself\u001b[0m\u001b[0;34m.\u001b[0m\u001b[0m_npy_value\u001b[0m \u001b[0;32mis\u001b[0m \u001b[0;32mNone\u001b[0m\u001b[0;34m:\u001b[0m\u001b[0;34m\u001b[0m\u001b[0;34m\u001b[0m\u001b[0m\n\u001b[1;32m    612\u001b[0m       \u001b[0;32mif\u001b[0m \u001b[0mself\u001b[0m\u001b[0;34m.\u001b[0m\u001b[0mis_fully_replicated\u001b[0m\u001b[0;34m:\u001b[0m\u001b[0;34m\u001b[0m\u001b[0;34m\u001b[0m\u001b[0m\n\u001b[0;32m--> 613\u001b[0;31m         \u001b[0mself\u001b[0m\u001b[0;34m.\u001b[0m\u001b[0m_npy_value\u001b[0m \u001b[0;34m=\u001b[0m \u001b[0mself\u001b[0m\u001b[0;34m.\u001b[0m\u001b[0m_single_device_array_to_np_array\u001b[0m\u001b[0;34m(\u001b[0m\u001b[0;34m)\u001b[0m\u001b[0;34m\u001b[0m\u001b[0;34m\u001b[0m\u001b[0m\n\u001b[0m\u001b[1;32m    614\u001b[0m         \u001b[0mself\u001b[0m\u001b[0;34m.\u001b[0m\u001b[0m_npy_value\u001b[0m\u001b[0;34m.\u001b[0m\u001b[0mflags\u001b[0m\u001b[0;34m.\u001b[0m\u001b[0mwriteable\u001b[0m \u001b[0;34m=\u001b[0m \u001b[0;32mFalse\u001b[0m\u001b[0;34m\u001b[0m\u001b[0;34m\u001b[0m\u001b[0m\n\u001b[1;32m    615\u001b[0m         \u001b[0;32mreturn\u001b[0m \u001b[0mcast\u001b[0m\u001b[0;34m(\u001b[0m\u001b[0mnp\u001b[0m\u001b[0;34m.\u001b[0m\u001b[0mndarray\u001b[0m\u001b[0;34m,\u001b[0m \u001b[0mself\u001b[0m\u001b[0;34m.\u001b[0m\u001b[0m_npy_value\u001b[0m\u001b[0;34m)\u001b[0m\u001b[0;34m\u001b[0m\u001b[0;34m\u001b[0m\u001b[0m\n",
            "\u001b[0;31mKeyboardInterrupt\u001b[0m: "
          ]
        }
      ],
      "source": [
        "# @title Evaluate the model on all examples.\n",
        "#\n",
        "# The validation data consists of 10 images in a different domain than training\n",
        "# data.\n",
        "%%time\n",
        "\n",
        "print(\"Model predictions\")\n",
        "html_out = \"\"\n",
        "captions = {}\n",
        "truth = {}\n",
        "iter = 0\n",
        "for image, caption in make_predictions(validation_data_iterator(), batch_size=4):\n",
        "  html_out += render_example(image, caption)\n",
        "  captions[format('img'+str(iter))] = [caption]\n",
        "  iter += 1\n",
        "display(HTML(html_out))\n",
        "\n",
        "iter=0\n",
        "for example in val_dataset.get_tfdata(ordered=True).as_numpy_iterator():\n",
        "  suffix = example[\"suffix\"].decode().lower()\n",
        "  truth[format('img'+str(iter))] = [suffix]\n",
        "  iter +=1\n"
      ]
    },
    {
      "cell_type": "code",
      "source": [
        "from pycocoevalcap.cider.cider import Cider\n",
        "\n",
        "# Function to calculate the CIDEr score\n",
        "def calculate_cider_score(predictions, ground_truths):\n",
        "    # Example format:\n",
        "    # ground_truths = {'img_1': ['caption 1 for img_1', 'caption 2 for img_1', ...], ...}\n",
        "    # predictions = {'img_1': ['predicted caption for img_1'], ...}\n",
        "\n",
        "    # Initialize the CIDEr scorer\n",
        "    cider_scorer = Cider()\n",
        "\n",
        "    # Compute the CIDEr score\n",
        "    score, scores = cider_scorer.compute_score(ground_truths, predictions)\n",
        "\n",
        "    return score, scores\n",
        "\n",
        "# Calculate the CIDEr score\n",
        "score, individual_scores = calculate_cider_score(captions, truth)\n",
        "\n",
        "# Print the results\n",
        "print(f\"CIDEr score: {score}\")\n",
        "print(f\"Individual image CIDEr scores: {individual_scores}\")\n",
        "\n"
      ],
      "metadata": {
        "id": "crrv2_lCOh9E"
      },
      "execution_count": null,
      "outputs": []
    },
    {
      "cell_type": "markdown",
      "metadata": {
        "id": "Ai0NMbAwsr0j"
      },
      "source": [
        "# Save the final checkpoint"
      ]
    },
    {
      "cell_type": "code",
      "execution_count": 17,
      "metadata": {
        "id": "5H_3CV33_JkV"
      },
      "outputs": [],
      "source": [
        "def npsave(pytree, path):\n",
        "  names_and_vals, _ = big_vision.utils.tree_flatten_with_names(pytree)\n",
        "  with open(path, \"wb\") as f:\n",
        "    np.savez(f, **{k:v for k, v in names_and_vals})\n",
        "\n",
        "# Takes around 4 minutes\n",
        "npsave(params, 'SOFTMAX_LONGCAP-paligemma-ckpt.npz')"
      ]
    },
    {
      "cell_type": "markdown",
      "source": [
        "## SARA"
      ],
      "metadata": {
        "id": "ydbkd10bZ73F"
      }
    },
    {
      "cell_type": "code",
      "source": [
        "# set gin config for sara\n",
        "import gin\n",
        "gin.parse_config_file('./big_vision/configs/proj/paligemma/sara.gin')"
      ],
      "metadata": {
        "id": "vUIzRbvYZ7I7"
      },
      "execution_count": null,
      "outputs": []
    },
    {
      "cell_type": "code",
      "source": [
        "# @title Construct model and load params into RAM.\n",
        "\n",
        "# Define model\n",
        "# IMPORTANT: Gemma-2 has a \"final_logits_softcap\" property, we set it to 0.0\n",
        "# for better transfer results.\n",
        "model_config = ml_collections.FrozenConfigDict({\n",
        "    \"llm\": {\"vocab_size\": 257_152, \"variant\": LLM_VARIANT, \"final_logits_softcap\": 0.0},\n",
        "    \"img\": {\"variant\": \"So400m/14\", \"pool_type\": \"none\", \"scan\": True, \"dtype_mm\": \"float16\"}\n",
        "})\n",
        "model = paligemma.Model(**model_config)\n",
        "tokenizer = sentencepiece.SentencePieceProcessor(TOKENIZER_PATH)\n",
        "\n",
        "# Load params - this can take up to 1 minute in T4 colabs.\n",
        "params = paligemma.load(None, MODEL_PATH, model_config)\n",
        "\n",
        "# Define `decode` function to sample outputs from the model.\n",
        "decode_fn = predict_fns.get_all(model)['decode']\n",
        "decode = functools.partial(decode_fn, devices=jax.devices(), eos_token=tokenizer.eos_id())"
      ],
      "metadata": {
        "id": "U9_ppVmAZ7UY"
      },
      "execution_count": null,
      "outputs": []
    },
    {
      "cell_type": "code",
      "source": [
        "\n",
        "# @title Move params to GPU/TPU memory.\n",
        "#\n",
        "# To keep HBM usage low we opt to only finetune\n",
        "# a part of the parameters. Additionally we keep the frozen params in float16 and cast trainable to float32.\n",
        "\n",
        "# Create a pytree mask of the trainable params.\n",
        "def is_trainable_param(name, param):  # pylint: disable=unused-argument\n",
        "    # if name.startswith(\"llm/layers/attn/\"):  return True\n",
        "    # if name.startswith(\"llm/\"):              return False\n",
        "    # if name.startswith(\"img/\"):              return False\n",
        "    # raise ValueError(f\"Unexpected param name {name}\")\n",
        "\n",
        "    # Train ViT (Transformer) components\n",
        "    if name.startswith(\"img/Transformer/\"):      return True  # ViT backbone\n",
        "    if name.startswith(\"img/head/\"):             return True  # Final projection layer (acting as final MLP)\n",
        "\n",
        "    # Freeze everything else\n",
        "    if name.startswith(\"img/embedding/\"):        return False # Freeze initial embedding\n",
        "    if name.startswith(\"img/pos_embedding\"):     return False # Freeze positional embedding\n",
        "    if name.startswith(\"llm/\"):                  return False # Freeze all LLM components\n",
        "\n",
        "    raise ValueError(f\"Unexpected param name {name}\")\n",
        "\n",
        "trainable_mask = big_vision.utils.tree_map_with_names(is_trainable_param, params)\n",
        "\n",
        "#\n",
        "# If more than one device is available (e.g. multiple GPUs) the parameters can\n",
        "# be sharded across them to reduce HBM usage per device.\n",
        "mesh = jax.sharding.Mesh(jax.devices(), (\"data\"))\n",
        "\n",
        "data_sharding = jax.sharding.NamedSharding(\n",
        "    mesh, jax.sharding.PartitionSpec(\"data\"))\n",
        "\n",
        "params_sharding = big_vision.sharding.infer_sharding(\n",
        "    params, strategy=[('.*', 'fsdp(axis=\"data\")')], mesh=mesh)\n",
        "\n",
        "# Yes: Some donated buffers are not usable.\n",
        "warnings.filterwarnings(\n",
        "    \"ignore\", message=\"Some donated buffers were not usable\")\n",
        "\n",
        "@functools.partial(jax.jit, donate_argnums=(0,), static_argnums=(1,))\n",
        "def maybe_cast_to_f32(params, trainable):\n",
        "  # Cast others to float16, since some GPUs don't support bf16.\n",
        "  return jax.tree.map(lambda p, m: p.astype(jnp.float32)\n",
        "                      if m else p.astype(jnp.float16),\n",
        "                      params, trainable)"
      ],
      "metadata": {
        "id": "bk0DuMgOZ6bl"
      },
      "execution_count": null,
      "outputs": []
    },
    {
      "cell_type": "code",
      "source": [
        "\n",
        "# Loading all params in simultaneous - albeit much faster and more succinct -\n",
        "# requires more RAM than the T4 colab runtimes have by default (12GB RAM).\n",
        "# Instead we do it param by param.\n",
        "params, treedef = jax.tree.flatten(params)\n",
        "sharding_leaves = jax.tree.leaves(params_sharding)\n",
        "trainable_leaves = jax.tree.leaves(trainable_mask)\n",
        "for idx, (sharding, trainable) in enumerate(zip(sharding_leaves, trainable_leaves)):\n",
        "  params[idx] = big_vision.utils.reshard(params[idx], sharding)\n",
        "  params[idx] = maybe_cast_to_f32(params[idx], trainable)\n",
        "  params[idx].block_until_ready()\n",
        "params = jax.tree.unflatten(treedef, params)\n",
        "\n",
        "# Print params to show what the model is made of.\n",
        "def parameter_overview(params):\n",
        "  for path, arr in big_vision.utils.tree_flatten_with_names(params)[0]:\n",
        "    print(f\"{path:80s} {str(arr.shape):22s} {arr.dtype}\")\n",
        "\n",
        "print(\" == Model params == \")\n",
        "parameter_overview(params)"
      ],
      "metadata": {
        "id": "qbbGa_gjaLMM"
      },
      "execution_count": null,
      "outputs": []
    },
    {
      "cell_type": "code",
      "source": [
        "# @title Run training loop.\n",
        "#\n",
        "# Run a short training loop with cosine learning rate schedule.\n",
        "#\n",
        "# Note: the first step can be quite slow on some machines (up to several minutes)\n",
        "# due to XLA compilation of the jax.jit'd function.\n",
        "#\n",
        "%%time\n",
        "\n",
        "BATCH_SIZE = 8\n",
        "TRAIN_EXAMPLES = 512\n",
        "LEARNING_RATE = 0.03\n",
        "\n",
        "TRAIN_STEPS = TRAIN_EXAMPLES // BATCH_SIZE\n",
        "EVAL_STEPS = TRAIN_STEPS // 4\n",
        "\n",
        "train_data_it = train_data_iterator()\n",
        "\n",
        "sched_fn = big_vision.utils.create_learning_rate_schedule(\n",
        "    total_steps=TRAIN_STEPS+1, base=LEARNING_RATE,\n",
        "    decay_type=\"cosine\", warmup_percent=0.10)\n",
        "\n",
        "for step in range(1, TRAIN_STEPS+1):\n",
        "  # Make list of N training examples.\n",
        "  examples = [next(train_data_it) for _ in range(BATCH_SIZE)]\n",
        "\n",
        "  # Convert list of examples into a dict of np.arrays and load onto devices.\n",
        "  batch = jax.tree.map(lambda *x: np.stack(x), *examples)\n",
        "  batch = big_vision.utils.reshard(batch, data_sharding)\n",
        "\n",
        "  # Training step and report training loss\n",
        "  learning_rate = sched_fn(step)\n",
        "  params, loss = update_fn(params, batch, learning_rate)\n",
        "\n",
        "  loss = jax.device_get(loss)\n",
        "  print(f\"step: {step:2d}/{TRAIN_STEPS:2d}   lr: {learning_rate:.5f}   loss: {loss:.4f}\")\n",
        "\n",
        "  '''if step == 1 or (step % EVAL_STEPS) == 0:\n",
        "    print(f\"Model predictions at step {step}\")\n",
        "    html_out = \"\"\n",
        "    for image, caption in make_predictions(\n",
        "        validation_data_iterator(), num_examples=4, batch_size=4):\n",
        "      html_out += render_example(image, caption)\n",
        "    display(HTML(html_out))'''\n",
        "\n"
      ],
      "metadata": {
        "id": "Lm_mjyN3aRYC"
      },
      "execution_count": null,
      "outputs": []
    },
    {
      "cell_type": "code",
      "source": [
        "# @title Evaluate the model on all examples.\n",
        "#\n",
        "# The validation data consists of 10 images in a different domain than training\n",
        "# data.\n",
        "%%time\n",
        "\n",
        "print(\"Model predictions\")\n",
        "html_out = \"\"\n",
        "captions = {}\n",
        "truth = {}\n",
        "iter = 0\n",
        "for image, caption in make_predictions(validation_data_iterator(), batch_size=4):\n",
        "  html_out += render_example(image, caption)\n",
        "  captions[format('img'+str(iter))] = [caption]\n",
        "  iter += 1\n",
        "display(HTML(html_out))\n",
        "\n",
        "iter=0\n",
        "for example in val_dataset.get_tfdata(ordered=True).as_numpy_iterator():\n",
        "  suffix = example[\"suffix\"].decode().lower()\n",
        "  truth[format('img'+str(iter))] = [suffix]\n",
        "  iter +=1\n",
        "\n"
      ],
      "metadata": {
        "id": "nK-OcbvEaUzF"
      },
      "execution_count": null,
      "outputs": []
    },
    {
      "cell_type": "code",
      "source": [
        "from pycocoevalcap.cider.cider import Cider\n",
        "\n",
        "# Function to calculate the CIDEr score\n",
        "def calculate_cider_score(predictions, ground_truths):\n",
        "    # Example format:\n",
        "    # ground_truths = {'img_1': ['caption 1 for img_1', 'caption 2 for img_1', ...], ...}\n",
        "    # predictions = {'img_1': ['predicted caption for img_1'], ...}\n",
        "\n",
        "    # Initialize the CIDEr scorer\n",
        "    cider_scorer = Cider()\n",
        "\n",
        "    # Compute the CIDEr score\n",
        "    score, scores = cider_scorer.compute_score(ground_truths, predictions)\n",
        "\n",
        "    return score, scores\n",
        "\n",
        "# Calculate the CIDEr score\n",
        "sara_score, sara_individual_scores = calculate_cider_score(captions, truth)\n",
        "\n",
        "# Print the results\n",
        "print(f\"CIDEr score: {sara_score}\")\n",
        "print(f\"Individual image CIDEr scores: {sara_individual_scores}\")\n",
        "\n",
        "\n"
      ],
      "metadata": {
        "id": "JP3STz-QaX4T"
      },
      "execution_count": null,
      "outputs": []
    },
    {
      "cell_type": "code",
      "source": [
        "\n",
        "def npsave(pytree, path):\n",
        "  names_and_vals, _ = big_vision.utils.tree_flatten_with_names(pytree)\n",
        "  with open(path, \"wb\") as f:\n",
        "    np.savez(f, **{k:v for k, v in names_and_vals})\n",
        "\n",
        "# Takes around 4 minutes\n",
        "npsave(params, 'SARA_LONGCAP-paligemma-ckpt.npz')"
      ],
      "metadata": {
        "id": "_9ejXv9dacyR"
      },
      "execution_count": null,
      "outputs": []
    }
  ],
  "metadata": {
    "accelerator": "GPU",
    "colab": {
      "gpuType": "T4",
      "provenance": []
    },
    "kernelspec": {
      "display_name": "Python 3",
      "name": "python3"
    },
    "language_info": {
      "name": "python"
    }
  },
  "nbformat": 4,
  "nbformat_minor": 0
}